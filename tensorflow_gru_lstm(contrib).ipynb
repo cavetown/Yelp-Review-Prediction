{
 "cells": [
  {
   "cell_type": "markdown",
   "metadata": {},
   "source": [
    "# GRU LSTM\n",
    "Attempts to create a GRU LSTM model to use for Yelp Dataset Challenge"
   ]
  },
  {
   "cell_type": "code",
   "execution_count": 1,
   "metadata": {},
   "outputs": [],
   "source": [
    "%matplotlib inline\n",
    "\n",
    "import pandas as pd\n",
    "import sklearn as sk\n",
    "import numpy as np\n",
    "import tensorflow as tf\n",
    "import matplotlib.pyplot as plt\n",
    "\n",
    "import itertools\n",
    "\n",
    "import utils\n",
    "\n",
    "import sys\n",
    "import argparse\n",
    "import random"
   ]
  },
  {
   "cell_type": "markdown",
   "metadata": {},
   "source": [
    "## Initialize Variables (pertaining to yelp dataset)\n",
    "Need to define:\n",
    "time_steps\n",
    "batch_size\n",
    "num_features\n",
    "lstm_size\n"
   ]
  },
  {
   "cell_type": "code",
   "execution_count": 6,
   "metadata": {},
   "outputs": [],
   "source": [
    "# Uses tf.contrib to generate GRU cell\n",
    "# Saves implementing own GRUCell from scratch\n",
    "# Based off of PTB example: # https://github.com/tensorflow/models/blob/master/tutorials/rnn/ptb/ptb_word_lm.py\n",
    "\n",
    "def gru_cell(hidden_state_size, keep_prob, is_training):\n",
    "    \n",
    "    assert isinstance(keep_prob, float)\n",
    "    assert isinstance(hidden_state_size, int)\n",
    "    assert isinstance(is_training, bool)\n",
    "    \n",
    "    cell = tf.contrib.rnn.GRUCell(hidden_state_size)\n",
    "    if is_training and keep_prob < 1:\n",
    "        cell = tf.contrib.rnn.DropoutWrapper(cell, \n",
    "                                             output_keep_prob=keep_prob)\n",
    "    return cell"
   ]
  },
  {
   "cell_type": "code",
   "execution_count": 8,
   "metadata": {},
   "outputs": [],
   "source": [
    "num_layers = 2\n",
    "state_size = 1024\n",
    "batch_size = 128\n",
    "time_steps = 2\n",
    "num_features = 100\n",
    "keep_prob = 0.8 # Keep 80% if outputs after when implementing dropout\n",
    "is_training = True\n",
    "\n",
    "# Based off of TensorFlow PTB example found at \n",
    "# https://github.com/tensorflow/models/blob/master/tutorials/rnn/ptb/ptb_word_lm.py\n",
    "\n",
    "words_in_dataset = tf.placeholder(tf.float32, [time_steps, batch_size, num_features])\n",
    "\n",
    "stacked_gru = tf.contrib.rnn.MultiRNNCell(\n",
    "    [gru_cell(state_size, keep_prob, is_training) for _ in range(num_layers)])\n",
    "\n",
    "# Initial state of LSTM\n",
    "initial_state = state = stacked_gru.zero_state(batch_size, tf.float32)\n"
   ]
  },
  {
   "cell_type": "markdown",
   "metadata": {},
   "source": []
  },
  {
   "cell_type": "code",
   "execution_count": null,
   "metadata": {},
   "outputs": [],
   "source": []
  }
 ],
 "metadata": {
  "kernelspec": {
   "display_name": "tensorflow",
   "language": "python",
   "name": "tensorflow"
  },
  "language_info": {
   "codemirror_mode": {
    "name": "ipython",
    "version": 2
   },
   "file_extension": ".py",
   "mimetype": "text/x-python",
   "name": "python",
   "nbconvert_exporter": "python",
   "pygments_lexer": "ipython2",
   "version": "2.7.10"
  }
 },
 "nbformat": 4,
 "nbformat_minor": 2
}
